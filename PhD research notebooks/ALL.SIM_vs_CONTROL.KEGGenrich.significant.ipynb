{
 "cells": [
  {
   "cell_type": "code",
   "execution_count": 1,
   "metadata": {},
   "outputs": [],
   "source": [
    "#Imports\n",
    "import pandas as pd\n",
    "import matplotlib.pyplot as plt\n",
    "import seaborn as sns\n",
    "import numpy as np"
   ]
  },
  {
   "cell_type": "code",
   "execution_count": 2,
   "metadata": {},
   "outputs": [
    {
     "name": "stdout",
     "output_type": "stream",
     "text": [
      "<class 'pandas.core.frame.DataFrame'>\n",
      "RangeIndex: 169 entries, 0 to 168\n",
      "Data columns (total 9 columns):\n",
      " #   Column       Non-Null Count  Dtype  \n",
      "---  ------       --------------  -----  \n",
      " 0   Category     169 non-null    object \n",
      " 1   ID           169 non-null    object \n",
      " 2   Description  169 non-null    object \n",
      " 3   GeneRatio    169 non-null    object \n",
      " 4   BgRatio      169 non-null    object \n",
      " 5   pvalue       169 non-null    float64\n",
      " 6   padj         169 non-null    float64\n",
      " 7   Count        169 non-null    int64  \n",
      " 8   geneID       169 non-null    object \n",
      "dtypes: float64(2), int64(1), object(6)\n",
      "memory usage: 12.0+ KB\n"
     ]
    }
   ],
   "source": [
    "# Reading the data\n",
    "df = pd.read_excel('ALL.SIM_vs_CONTROL.KEGGenrich.significant lucrat.xls')\n",
    "\n",
    "# Info and columns of the dataset\n",
    "df.info()"
   ]
  },
  {
   "cell_type": "code",
   "execution_count": 3,
   "metadata": {},
   "outputs": [
    {
     "name": "stdout",
     "output_type": "stream",
     "text": [
      "0    -1.380338\n",
      "1    -1.363362\n",
      "2     1.267705\n",
      "3     1.132076\n",
      "4    46.217437\n",
      "Name: FR, dtype: float64\n"
     ]
    }
   ],
   "source": [
    "# # Convert 'FR' column to float, to avoid errors\n",
    "# df['FR'] = pd.to_numeric(df['FR'], errors='coerce') \n",
    "# df['FR'] = df['FR'].astype(float)\n",
    "\n",
    "# #Checking a few values of the column \"FR\"\n",
    "# print(df['FR'].head(5))"
   ]
  },
  {
   "cell_type": "markdown",
   "metadata": {},
   "source": [
    "## Query - Return the pathways (description) which have over 50 genes expressed differently\n"
   ]
  },
  {
   "cell_type": "code",
   "execution_count": 6,
   "metadata": {},
   "outputs": [
    {
     "name": "stdout",
     "output_type": "stream",
     "text": [
      "13\n"
     ]
    }
   ],
   "source": [
    "# Selecting/filtering according to the above conditions\n",
    "df_query = df.query('Count >= 50', inplace=False)\n",
    "\n",
    "print(len(df_query))"
   ]
  },
  {
   "cell_type": "markdown",
   "metadata": {},
   "source": [
    "## Display pathways that were queried"
   ]
  },
  {
   "cell_type": "code",
   "execution_count": 10,
   "metadata": {},
   "outputs": [
    {
     "data": {
      "text/plain": [
       "0                         Ribosome\n",
       "1               Metabolic pathways\n",
       "2                       Alcoholism\n",
       "3     Systemic lupus erythematosus\n",
       "4                      Spliceosome\n",
       "5                       Cell cycle\n",
       "6             Viral carcinogenesis\n",
       "7                    RNA transport\n",
       "8             Huntington's disease\n",
       "10             Alzheimer's disease\n",
       "25                     Endocytosis\n",
       "26              Pathways in cancer\n",
       "29                HTLV-I infection\n",
       "Name: Description, dtype: object"
      ]
     },
     "execution_count": 10,
     "metadata": {},
     "output_type": "execute_result"
    }
   ],
   "source": [
    "df_query['Description']"
   ]
  },
  {
   "cell_type": "markdown",
   "metadata": {},
   "source": [
    "# Writing new dataframes to excel sheet"
   ]
  },
  {
   "cell_type": "code",
   "execution_count": 11,
   "metadata": {},
   "outputs": [],
   "source": [
    "writer = pd.ExcelWriter(\"ALL_SIM_vs_Control_KEGGenrich_filtered.xlsx\", engine=\"xlsxwriter\")\n",
    "\n",
    "df_query.to_excel(writer, sheet_name=\"Sheet1\")\n",
    "\n",
    "# Closing the excel writer and outputting the Excel file\n",
    "writer.close()"
   ]
  }
 ],
 "metadata": {
  "kernelspec": {
   "display_name": "Python 3",
   "language": "python",
   "name": "python3"
  },
  "language_info": {
   "codemirror_mode": {
    "name": "ipython",
    "version": 3
   },
   "file_extension": ".py",
   "mimetype": "text/x-python",
   "name": "python",
   "nbconvert_exporter": "python",
   "pygments_lexer": "ipython3",
   "version": "3.11.5"
  },
  "orig_nbformat": 4
 },
 "nbformat": 4,
 "nbformat_minor": 2
}
